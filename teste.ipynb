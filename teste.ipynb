{
 "cells": [
  {
   "cell_type": "code",
   "execution_count": 4,
   "metadata": {},
   "outputs": [],
   "source": [
    "import threading\n",
    "import time\n",
    "import tkinter as tk\n",
    "from urllib.request import urlopen\n",
    "\n",
    "def busca():\n",
    "    # Muda o ícone para o de busca\n",
    "    root.config(cursor='wait')\n",
    "    root.configure(bg='yellow')\n",
    "\n",
    "    # Inicia uma nova thread para fazer a busca na internet\n",
    "    thread = threading.Thread(target=realiza_busca)\n",
    "    thread.start()\n",
    "\n",
    "def realiza_busca():\n",
    "    # Realiza a busca na internet\n",
    "    \n",
    "    # Muda o ícone para o de sucesso após a busca ser concluída\n",
    "    time.sleep(2) # apenas para simular uma busca mais demorada\n",
    "    root.config(cursor='')\n",
    "    root.configure(bg='purple')\n",
    "\n",
    "# Cria a janela e o botão\n",
    "root = tk.Tk()\n",
    "root.geometry(\"200x100\")\n",
    "botao = tk.Button(root, text=\"Buscar\", command=busca)\n",
    "botao.pack(pady=20)\n",
    "\n",
    "# Inicia o loop da janela\n",
    "root.mainloop()\n"
   ]
  }
 ],
 "metadata": {
  "kernelspec": {
   "display_name": "Python 3",
   "language": "python",
   "name": "python3"
  },
  "language_info": {
   "codemirror_mode": {
    "name": "ipython",
    "version": 3
   },
   "file_extension": ".py",
   "mimetype": "text/x-python",
   "name": "python",
   "nbconvert_exporter": "python",
   "pygments_lexer": "ipython3",
   "version": "3.10.11"
  },
  "orig_nbformat": 4
 },
 "nbformat": 4,
 "nbformat_minor": 2
}
